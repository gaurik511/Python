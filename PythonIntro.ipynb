{
  "nbformat": 4,
  "nbformat_minor": 0,
  "metadata": {
    "colab": {
      "provenance": [],
      "authorship_tag": "ABX9TyPy1eF8u0INQn7/Z1LvuIyE",
      "include_colab_link": true
    },
    "kernelspec": {
      "name": "python3",
      "display_name": "Python 3"
    },
    "language_info": {
      "name": "python"
    }
  },
  "cells": [
    {
      "cell_type": "markdown",
      "metadata": {
        "id": "view-in-github",
        "colab_type": "text"
      },
      "source": [
        "<a href=\"https://colab.research.google.com/github/gaurik511/Python/blob/main/PythonIntro.ipynb\" target=\"_parent\"><img src=\"https://colab.research.google.com/assets/colab-badge.svg\" alt=\"Open In Colab\"/></a>"
      ]
    },
    {
      "cell_type": "markdown",
      "source": [
        "Question 1: A store sells apples at $5 each and bananas at $3 each. Declare variables apples_price and bananas_price with appropriate values. Calculate the total cost for purchasing 10 apples and 7 bananas and store the result in total_cost."
      ],
      "metadata": {
        "id": "72Ebn1RLXdNb"
      }
    },
    {
      "cell_type": "code",
      "source": [
        "apples_price = 5\n",
        "bananas_price = 3\n",
        "total_cost = ((10*apples_price) + (7*bananas_price))\n",
        "print(total_cost)"
      ],
      "metadata": {
        "colab": {
          "base_uri": "https://localhost:8080/",
          "height": 0
        },
        "id": "LaYF0kTKW6fr",
        "outputId": "3c3229af-9d38-419b-ff4b-26fde1dfe8ad"
      },
      "execution_count": 10,
      "outputs": [
        {
          "output_type": "stream",
          "name": "stdout",
          "text": [
            "71\n"
          ]
        }
      ]
    },
    {
      "cell_type": "markdown",
      "source": [
        "Question 2: You have a monthly salary of $4,000 and expenses that include rent ($1,200), groceries ($300), and miscellaneous ($500). Calculate the amount left after expenses and store it in a variable named remaining_balance.\n",
        "\n",
        "---\n",
        "\n"
      ],
      "metadata": {
        "id": "vGD4VHYvXcsK"
      }
    },
    {
      "cell_type": "code",
      "source": [
        "salary = 4000\n",
        "rent = 1200\n",
        "groceries = 300\n",
        "miscellaneous = 500\n",
        "remaining_balance = (salary - (rent+groceries+miscellaneous))\n",
        "print(remaining_balance);"
      ],
      "metadata": {
        "colab": {
          "base_uri": "https://localhost:8080/",
          "height": 0
        },
        "id": "hrG-AJDMXbrq",
        "outputId": "0da24deb-029d-4bf7-957a-1d9b5873adca"
      },
      "execution_count": 9,
      "outputs": [
        {
          "output_type": "stream",
          "name": "stdout",
          "text": [
            "2000\n"
          ]
        }
      ]
    },
    {
      "cell_type": "markdown",
      "source": [
        "Question 3: A team won 28 matches this season, and last season they won 18 matches. Declare variables current_season_wins and last_season_wins with respective values. Calculate the increase in matches won and store it in win_difference."
      ],
      "metadata": {
        "id": "1ww7ifurYG9k"
      }
    },
    {
      "cell_type": "code",
      "source": [
        "curr_season_wins = 28\n",
        "last_season_wins = 18\n",
        "win_difference = (curr_season_wins - last_season_wins)\n",
        "print(win_difference)"
      ],
      "metadata": {
        "colab": {
          "base_uri": "https://localhost:8080/",
          "height": 0
        },
        "id": "_btd3qbXYKME",
        "outputId": "46da47fd-e7f6-4749-a440-c34e19b044ee"
      },
      "execution_count": 11,
      "outputs": [
        {
          "output_type": "stream",
          "name": "stdout",
          "text": [
            "10\n"
          ]
        }
      ]
    },
    {
      "cell_type": "markdown",
      "source": [
        "Question 4: A travel company charges $250 per person for a weekend trip and gives a $100 group discount for every 5 people. If a group has 15 people Calculate the total cost for the group and store it in group_trip_cost.\n",
        "\n",
        "\n"
      ],
      "metadata": {
        "id": "AWraivHEYjLN"
      }
    },
    {
      "cell_type": "code",
      "source": [
        "cost_per_person = 250\n",
        "group_discount = 100\n",
        "people_in_group = 15\n",
        "discount_group_size = 5\n",
        "\n",
        "# Calculate total cost without discount\n",
        "total_cost = cost_per_person * people_in_group\n",
        "# print(total_cost)\n",
        "# Calculate how many discounts apply\n",
        "num_discounts = people_in_group // discount_group_size\n",
        "total_discount = num_discounts * group_discount\n",
        "# print(num_discounts)\n",
        "# Final cost after applying discount\n",
        "group_trip_cost = total_cost - total_discount\n",
        "\n",
        "# Output the result\n",
        "print(\"Total cost for the group:\", group_trip_cost)\n"
      ],
      "metadata": {
        "colab": {
          "base_uri": "https://localhost:8080/",
          "height": 0
        },
        "id": "Sova20H-Yu_d",
        "outputId": "a765b95f-a49f-46b2-b150-80956e2d160c"
      },
      "execution_count": 18,
      "outputs": [
        {
          "output_type": "stream",
          "name": "stdout",
          "text": [
            "Total cost for the group: 3450\n"
          ]
        }
      ]
    },
    {
      "cell_type": "markdown",
      "source": [
        "Question 5: An item costs $120, and there is a discount of 15%. Calculate the final price after the discount and store it in discounted_price."
      ],
      "metadata": {
        "id": "b5AnD9BoUmOx"
      }
    },
    {
      "cell_type": "code",
      "source": [
        "item_price = 120\n",
        "discount = 15\n",
        "discounted_price = item_price - ((item_price * discount)/100)\n",
        "print(discounted_price)"
      ],
      "metadata": {
        "colab": {
          "base_uri": "https://localhost:8080/",
          "height": 0
        },
        "id": "fsbgHaVIUm-2",
        "outputId": "a04bc393-0b88-454f-ea0e-1e1499eaf476"
      },
      "execution_count": 2,
      "outputs": [
        {
          "output_type": "stream",
          "name": "stdout",
          "text": [
            "102.0\n"
          ]
        }
      ]
    },
    {
      "cell_type": "markdown",
      "source": [
        "Question 6: A company produces 500 units daily and sells each unit for $20. Declare variables units_per_day and price_per_unit. Calculate the monthly revenue assuming a 30-day month and store it in monthly_revenue."
      ],
      "metadata": {
        "id": "nn8rUkHTVb1Q"
      }
    },
    {
      "cell_type": "code",
      "source": [
        "units_per_day = 500\n",
        "price_per_unit = 20\n",
        "days_per_month = 30\n",
        "total_price = 500*20\n",
        "\n",
        "monthly_revenue = units_per_day * price_per_unit * days_per_month\n",
        "print(monthly_revenue)\n"
      ],
      "metadata": {
        "colab": {
          "base_uri": "https://localhost:8080/",
          "height": 0
        },
        "id": "nx14yQHtVeS_",
        "outputId": "cf11dc74-6c95-47ad-ce63-519b8acc54ca"
      },
      "execution_count": 5,
      "outputs": [
        {
          "output_type": "stream",
          "name": "stdout",
          "text": [
            "300000\n"
          ]
        }
      ]
    },
    {
      "cell_type": "markdown",
      "source": [
        "Question 7: A farmer grows wheat on a 150-acre farm and yields 3,000 kg per acre. Declare variables acreage and yield_per_acre. Calculate the total wheat production and store it in total_production."
      ],
      "metadata": {
        "id": "pFoWP7zikN0Y"
      }
    },
    {
      "cell_type": "code",
      "source": [
        "acreage = 150\n",
        "yield_per_acre = 3000\n",
        "\n",
        "total_production = acreage * yield_per_acre\n",
        "print(total_production)"
      ],
      "metadata": {
        "colab": {
          "base_uri": "https://localhost:8080/",
          "height": 0
        },
        "id": "choq79IskPRm",
        "outputId": "14e0688e-bfa9-40b5-c90f-bda4436f289d"
      },
      "execution_count": 1,
      "outputs": [
        {
          "output_type": "stream",
          "name": "stdout",
          "text": [
            "450000\n"
          ]
        }
      ]
    },
    {
      "cell_type": "markdown",
      "source": [
        "Question 8: A bakery makes $2 profit on each loaf of bread sold. If they sell 200 loaves in a day, declare variables profit_per_loaf and loaves_sold. Calculate the daily profit and store it in daily_profit."
      ],
      "metadata": {
        "id": "jcfy6UpwlBq1"
      }
    },
    {
      "cell_type": "code",
      "source": [
        "profit_per_loaf = 2\n",
        "loaves_sold = 200\n",
        "daily_profit = profit_per_loaf * loaves_sold\n",
        "print(daily_profit)"
      ],
      "metadata": {
        "colab": {
          "base_uri": "https://localhost:8080/",
          "height": 0
        },
        "id": "t3LEIFnUlEBa",
        "outputId": "f92b18b4-e162-46c4-de67-caec6ae04e26"
      },
      "execution_count": 2,
      "outputs": [
        {
          "output_type": "stream",
          "name": "stdout",
          "text": [
            "400\n"
          ]
        }
      ]
    },
    {
      "cell_type": "markdown",
      "source": [
        "Question 9: You are planning an event for 120 attendees. The venue rental is $800, and catering costs $25 per person. Declare variables venue_cost, catering_cost_per_person, and number_of_attendees. Calculate the total cost of the event and store it in event_total_cost."
      ],
      "metadata": {
        "id": "ZTFTkz2bla33"
      }
    },
    {
      "cell_type": "code",
      "source": [
        "venue_cost = 800\n",
        "catering_cost_per_person = 25\n",
        "number_of_attendees = 120\n",
        "event_total_cost = venue_cost + (catering_cost_per_person*number_of_attendees)\n",
        "print(event_total_cost)"
      ],
      "metadata": {
        "colab": {
          "base_uri": "https://localhost:8080/",
          "height": 0
        },
        "id": "7wWADUoelcfy",
        "outputId": "3d79317e-f901-43c5-e2c0-1dd4b1021e61"
      },
      "execution_count": 3,
      "outputs": [
        {
          "output_type": "stream",
          "name": "stdout",
          "text": [
            "3800\n"
          ]
        }
      ]
    },
    {
      "cell_type": "markdown",
      "source": [
        "Question 10: A school's annual fee per student is $1,500, and they provide a 5% sibling discount. Declare variables annual_fee and sibling_discount_percent. Calculate the discounted fee for one sibling and store it in sibling_discounted_fee."
      ],
      "metadata": {
        "id": "zLqWcc9hmEtR"
      }
    },
    {
      "cell_type": "code",
      "source": [
        "annual_fee = 1500\n",
        "sibling_discount_percent = 5\n",
        "discounted_fee = annual_fee*(sibling_discount_percent/100)\n",
        "sibling_discounted_fee = annual_fee - discounted_fee\n",
        "print(sibling_discounted_fee)"
      ],
      "metadata": {
        "colab": {
          "base_uri": "https://localhost:8080/",
          "height": 0
        },
        "id": "kT05G8z4mGHD",
        "outputId": "518a3235-c7d9-4db4-c92a-9549dc8adaef"
      },
      "execution_count": 6,
      "outputs": [
        {
          "output_type": "stream",
          "name": "stdout",
          "text": [
            "1425.0\n"
          ]
        }
      ]
    }
  ]
}